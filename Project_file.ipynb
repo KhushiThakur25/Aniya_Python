{
 "cells": [
  {
   "cell_type": "code",
   "execution_count": 77,
   "id": "c9bea99b-8952-4f19-bf56-b1d35abddd0e",
   "metadata": {
    "tags": []
   },
   "outputs": [],
   "source": [
    "import pandas as pd\n",
    "import numpy as np\n",
    "import matplotlib.pyplot as plt "
   ]
  },
  {
   "cell_type": "code",
   "execution_count": 42,
   "id": "96808077-d6eb-4f60-a1e9-8f45276ac171",
   "metadata": {
    "tags": []
   },
   "outputs": [],
   "source": [
    "data = pd.read_csv(\"amazon_sales_large_corrupted.csv\")"
   ]
  },
  {
   "cell_type": "code",
   "execution_count": 43,
   "id": "99c5293a-df5e-48d2-b2b7-dca32a6122fc",
   "metadata": {
    "tags": []
   },
   "outputs": [
    {
     "data": {
      "text/html": [
       "<div>\n",
       "<style scoped>\n",
       "    .dataframe tbody tr th:only-of-type {\n",
       "        vertical-align: middle;\n",
       "    }\n",
       "\n",
       "    .dataframe tbody tr th {\n",
       "        vertical-align: top;\n",
       "    }\n",
       "\n",
       "    .dataframe thead th {\n",
       "        text-align: right;\n",
       "    }\n",
       "</style>\n",
       "<table border=\"1\" class=\"dataframe\">\n",
       "  <thead>\n",
       "    <tr style=\"text-align: right;\">\n",
       "      <th></th>\n",
       "      <th>Order ID</th>\n",
       "      <th>Product Name</th>\n",
       "      <th>Category</th>\n",
       "      <th>Sub-Category</th>\n",
       "      <th>Sales</th>\n",
       "      <th>Quantity</th>\n",
       "      <th>Discount</th>\n",
       "      <th>Profit</th>\n",
       "      <th>New_discount</th>\n",
       "      <th>Profit_After</th>\n",
       "    </tr>\n",
       "  </thead>\n",
       "  <tbody>\n",
       "    <tr>\n",
       "      <th>0</th>\n",
       "      <td>US-2017-434667</td>\n",
       "      <td>Tables A</td>\n",
       "      <td>Furniture</td>\n",
       "      <td>Tables</td>\n",
       "      <td>554.70</td>\n",
       "      <td>7</td>\n",
       "      <td>0.1</td>\n",
       "      <td>126.79</td>\n",
       "      <td>0.2</td>\n",
       "      <td>126.53642</td>\n",
       "    </tr>\n",
       "    <tr>\n",
       "      <th>1</th>\n",
       "      <td>CA-2021-365005</td>\n",
       "      <td>Labels C</td>\n",
       "      <td>Office Supplies</td>\n",
       "      <td>Labels</td>\n",
       "      <td>24.36</td>\n",
       "      <td>3</td>\n",
       "      <td>0.4</td>\n",
       "      <td>3.37</td>\n",
       "      <td>0.5</td>\n",
       "      <td>3.35315</td>\n",
       "    </tr>\n",
       "    <tr>\n",
       "      <th>2</th>\n",
       "      <td>CA-2020-401477</td>\n",
       "      <td>Machines A</td>\n",
       "      <td>Technology</td>\n",
       "      <td>Machines</td>\n",
       "      <td>531.72</td>\n",
       "      <td>3</td>\n",
       "      <td>0.4</td>\n",
       "      <td>39.92</td>\n",
       "      <td>0.5</td>\n",
       "      <td>39.72040</td>\n",
       "    </tr>\n",
       "    <tr>\n",
       "      <th>3</th>\n",
       "      <td>IN-2015-398586</td>\n",
       "      <td>Paper C</td>\n",
       "      <td>Office Supplies</td>\n",
       "      <td>Paper</td>\n",
       "      <td>617.55</td>\n",
       "      <td>3</td>\n",
       "      <td>0.0</td>\n",
       "      <td>116.48</td>\n",
       "      <td>0.1</td>\n",
       "      <td>116.36352</td>\n",
       "    </tr>\n",
       "    <tr>\n",
       "      <th>4</th>\n",
       "      <td>IN-2018-565349</td>\n",
       "      <td>Tables D</td>\n",
       "      <td>Furniture</td>\n",
       "      <td>Tables</td>\n",
       "      <td>972.67</td>\n",
       "      <td>7</td>\n",
       "      <td>0.2</td>\n",
       "      <td>194.54</td>\n",
       "      <td>0.3</td>\n",
       "      <td>193.95638</td>\n",
       "    </tr>\n",
       "    <tr>\n",
       "      <th>...</th>\n",
       "      <td>...</td>\n",
       "      <td>...</td>\n",
       "      <td>...</td>\n",
       "      <td>...</td>\n",
       "      <td>...</td>\n",
       "      <td>...</td>\n",
       "      <td>...</td>\n",
       "      <td>...</td>\n",
       "      <td>...</td>\n",
       "      <td>...</td>\n",
       "    </tr>\n",
       "    <tr>\n",
       "      <th>495</th>\n",
       "      <td>IN-2017-952207</td>\n",
       "      <td>Phones B</td>\n",
       "      <td>Technology</td>\n",
       "      <td>Phones</td>\n",
       "      <td>NaN</td>\n",
       "      <td>5</td>\n",
       "      <td>0.4</td>\n",
       "      <td>39.72</td>\n",
       "      <td>0.5</td>\n",
       "      <td>39.52140</td>\n",
       "    </tr>\n",
       "    <tr>\n",
       "      <th>496</th>\n",
       "      <td>US-2017-979008</td>\n",
       "      <td>Furnishings D</td>\n",
       "      <td>Furniture</td>\n",
       "      <td>Furnishings</td>\n",
       "      <td>339.38</td>\n",
       "      <td>8</td>\n",
       "      <td>0.2</td>\n",
       "      <td>65.81</td>\n",
       "      <td>0.3</td>\n",
       "      <td>65.61257</td>\n",
       "    </tr>\n",
       "    <tr>\n",
       "      <th>497</th>\n",
       "      <td>IN-2019-980328</td>\n",
       "      <td>Labels D</td>\n",
       "      <td>Office Supplies</td>\n",
       "      <td>Labels</td>\n",
       "      <td>NaN</td>\n",
       "      <td>10</td>\n",
       "      <td>0.3</td>\n",
       "      <td>62.59</td>\n",
       "      <td>0.4</td>\n",
       "      <td>62.33964</td>\n",
       "    </tr>\n",
       "    <tr>\n",
       "      <th>498</th>\n",
       "      <td>US-2017-870155</td>\n",
       "      <td>Storage B</td>\n",
       "      <td>Office Supplies</td>\n",
       "      <td>Storage</td>\n",
       "      <td>840.35</td>\n",
       "      <td>4</td>\n",
       "      <td>0.2</td>\n",
       "      <td>NaN</td>\n",
       "      <td>0.3</td>\n",
       "      <td>NaN</td>\n",
       "    </tr>\n",
       "    <tr>\n",
       "      <th>499</th>\n",
       "      <td>IN-2018-943633</td>\n",
       "      <td>Machines B</td>\n",
       "      <td>Technology</td>\n",
       "      <td>Machines</td>\n",
       "      <td>203.25</td>\n",
       "      <td>3</td>\n",
       "      <td>0.4</td>\n",
       "      <td>13.56</td>\n",
       "      <td>0.5</td>\n",
       "      <td>13.49220</td>\n",
       "    </tr>\n",
       "  </tbody>\n",
       "</table>\n",
       "<p>500 rows × 10 columns</p>\n",
       "</div>"
      ],
      "text/plain": [
       "           Order ID   Product Name         Category Sub-Category   Sales  \\\n",
       "0    US-2017-434667       Tables A        Furniture       Tables  554.70   \n",
       "1    CA-2021-365005       Labels C  Office Supplies       Labels   24.36   \n",
       "2    CA-2020-401477     Machines A       Technology     Machines  531.72   \n",
       "3    IN-2015-398586        Paper C  Office Supplies        Paper  617.55   \n",
       "4    IN-2018-565349       Tables D        Furniture       Tables  972.67   \n",
       "..              ...            ...              ...          ...     ...   \n",
       "495  IN-2017-952207       Phones B       Technology       Phones     NaN   \n",
       "496  US-2017-979008  Furnishings D        Furniture  Furnishings  339.38   \n",
       "497  IN-2019-980328       Labels D  Office Supplies       Labels     NaN   \n",
       "498  US-2017-870155      Storage B  Office Supplies      Storage  840.35   \n",
       "499  IN-2018-943633     Machines B       Technology     Machines  203.25   \n",
       "\n",
       "     Quantity  Discount  Profit  New_discount  Profit_After  \n",
       "0           7       0.1  126.79           0.2     126.53642  \n",
       "1           3       0.4    3.37           0.5       3.35315  \n",
       "2           3       0.4   39.92           0.5      39.72040  \n",
       "3           3       0.0  116.48           0.1     116.36352  \n",
       "4           7       0.2  194.54           0.3     193.95638  \n",
       "..        ...       ...     ...           ...           ...  \n",
       "495         5       0.4   39.72           0.5      39.52140  \n",
       "496         8       0.2   65.81           0.3      65.61257  \n",
       "497        10       0.3   62.59           0.4      62.33964  \n",
       "498         4       0.2     NaN           0.3           NaN  \n",
       "499         3       0.4   13.56           0.5      13.49220  \n",
       "\n",
       "[500 rows x 10 columns]"
      ]
     },
     "execution_count": 43,
     "metadata": {},
     "output_type": "execute_result"
    }
   ],
   "source": [
    "data = pd.eval(\"New_discount = data.Discount + 0.1\",target = data)\n",
    "data = pd.eval(\"Profit_After = data.Profit * (1-data.New_discount/100)\",target = data)\n",
    "data"
   ]
  },
  {
   "cell_type": "code",
   "execution_count": 44,
   "id": "3d5bbb87-d39a-46e0-9dcf-cbb8e10c8238",
   "metadata": {
    "tags": []
   },
   "outputs": [
    {
     "data": {
      "text/html": [
       "<div>\n",
       "<style scoped>\n",
       "    .dataframe tbody tr th:only-of-type {\n",
       "        vertical-align: middle;\n",
       "    }\n",
       "\n",
       "    .dataframe tbody tr th {\n",
       "        vertical-align: top;\n",
       "    }\n",
       "\n",
       "    .dataframe thead th {\n",
       "        text-align: right;\n",
       "    }\n",
       "</style>\n",
       "<table border=\"1\" class=\"dataframe\">\n",
       "  <thead>\n",
       "    <tr style=\"text-align: right;\">\n",
       "      <th></th>\n",
       "      <th>Sales</th>\n",
       "      <th>Quantity</th>\n",
       "      <th>Discount</th>\n",
       "      <th>Profit</th>\n",
       "      <th>New_discount</th>\n",
       "      <th>Profit_After</th>\n",
       "    </tr>\n",
       "  </thead>\n",
       "  <tbody>\n",
       "    <tr>\n",
       "      <th>count</th>\n",
       "      <td>470.000000</td>\n",
       "      <td>500.000000</td>\n",
       "      <td>500.000000</td>\n",
       "      <td>470.000000</td>\n",
       "      <td>500.000000</td>\n",
       "      <td>470.000000</td>\n",
       "    </tr>\n",
       "    <tr>\n",
       "      <th>mean</th>\n",
       "      <td>515.433745</td>\n",
       "      <td>5.296000</td>\n",
       "      <td>0.203600</td>\n",
       "      <td>71.252085</td>\n",
       "      <td>0.303600</td>\n",
       "      <td>71.056206</td>\n",
       "    </tr>\n",
       "    <tr>\n",
       "      <th>std</th>\n",
       "      <td>291.753441</td>\n",
       "      <td>2.897097</td>\n",
       "      <td>0.145014</td>\n",
       "      <td>55.404945</td>\n",
       "      <td>0.145014</td>\n",
       "      <td>55.292245</td>\n",
       "    </tr>\n",
       "    <tr>\n",
       "      <th>min</th>\n",
       "      <td>7.830000</td>\n",
       "      <td>1.000000</td>\n",
       "      <td>0.000000</td>\n",
       "      <td>0.500000</td>\n",
       "      <td>0.100000</td>\n",
       "      <td>0.497500</td>\n",
       "    </tr>\n",
       "    <tr>\n",
       "      <th>25%</th>\n",
       "      <td>269.805000</td>\n",
       "      <td>3.000000</td>\n",
       "      <td>0.100000</td>\n",
       "      <td>26.697500</td>\n",
       "      <td>0.200000</td>\n",
       "      <td>26.613202</td>\n",
       "    </tr>\n",
       "    <tr>\n",
       "      <th>50%</th>\n",
       "      <td>508.115000</td>\n",
       "      <td>5.000000</td>\n",
       "      <td>0.200000</td>\n",
       "      <td>57.230000</td>\n",
       "      <td>0.300000</td>\n",
       "      <td>56.972315</td>\n",
       "    </tr>\n",
       "    <tr>\n",
       "      <th>75%</th>\n",
       "      <td>785.932500</td>\n",
       "      <td>8.000000</td>\n",
       "      <td>0.300000</td>\n",
       "      <td>105.490000</td>\n",
       "      <td>0.400000</td>\n",
       "      <td>105.384510</td>\n",
       "    </tr>\n",
       "    <tr>\n",
       "      <th>max</th>\n",
       "      <td>992.830000</td>\n",
       "      <td>10.000000</td>\n",
       "      <td>0.400000</td>\n",
       "      <td>258.740000</td>\n",
       "      <td>0.500000</td>\n",
       "      <td>258.481260</td>\n",
       "    </tr>\n",
       "  </tbody>\n",
       "</table>\n",
       "</div>"
      ],
      "text/plain": [
       "            Sales    Quantity    Discount      Profit  New_discount  \\\n",
       "count  470.000000  500.000000  500.000000  470.000000    500.000000   \n",
       "mean   515.433745    5.296000    0.203600   71.252085      0.303600   \n",
       "std    291.753441    2.897097    0.145014   55.404945      0.145014   \n",
       "min      7.830000    1.000000    0.000000    0.500000      0.100000   \n",
       "25%    269.805000    3.000000    0.100000   26.697500      0.200000   \n",
       "50%    508.115000    5.000000    0.200000   57.230000      0.300000   \n",
       "75%    785.932500    8.000000    0.300000  105.490000      0.400000   \n",
       "max    992.830000   10.000000    0.400000  258.740000      0.500000   \n",
       "\n",
       "       Profit_After  \n",
       "count    470.000000  \n",
       "mean      71.056206  \n",
       "std       55.292245  \n",
       "min        0.497500  \n",
       "25%       26.613202  \n",
       "50%       56.972315  \n",
       "75%      105.384510  \n",
       "max      258.481260  "
      ]
     },
     "execution_count": 44,
     "metadata": {},
     "output_type": "execute_result"
    }
   ],
   "source": [
    "data.describe()"
   ]
  },
  {
   "cell_type": "code",
   "execution_count": 45,
   "id": "c1e87473-8b20-4309-b19e-7f0b94ee1c0d",
   "metadata": {
    "tags": []
   },
   "outputs": [
    {
     "name": "stdout",
     "output_type": "stream",
     "text": [
      "<class 'pandas.core.frame.DataFrame'>\n",
      "RangeIndex: 500 entries, 0 to 499\n",
      "Data columns (total 10 columns):\n",
      " #   Column        Non-Null Count  Dtype  \n",
      "---  ------        --------------  -----  \n",
      " 0   Order ID      500 non-null    object \n",
      " 1   Product Name  500 non-null    object \n",
      " 2   Category      471 non-null    object \n",
      " 3   Sub-Category  500 non-null    object \n",
      " 4   Sales         470 non-null    float64\n",
      " 5   Quantity      500 non-null    int64  \n",
      " 6   Discount      500 non-null    float64\n",
      " 7   Profit        470 non-null    float64\n",
      " 8   New_discount  500 non-null    float64\n",
      " 9   Profit_After  470 non-null    float64\n",
      "dtypes: float64(5), int64(1), object(4)\n",
      "memory usage: 39.2+ KB\n"
     ]
    }
   ],
   "source": [
    "data.info()"
   ]
  },
  {
   "cell_type": "code",
   "execution_count": 46,
   "id": "31759bd2-c383-43bc-a431-52a7633f24f5",
   "metadata": {
    "tags": []
   },
   "outputs": [
    {
     "data": {
      "text/plain": [
       "Order ID         0\n",
       "Product Name     0\n",
       "Category        29\n",
       "Sub-Category     0\n",
       "Sales           30\n",
       "Quantity         0\n",
       "Discount         0\n",
       "Profit          30\n",
       "New_discount     0\n",
       "Profit_After    30\n",
       "dtype: int64"
      ]
     },
     "execution_count": 46,
     "metadata": {},
     "output_type": "execute_result"
    }
   ],
   "source": [
    "data.isnull().sum()"
   ]
  },
  {
   "cell_type": "code",
   "execution_count": 47,
   "id": "a9a301f7-1498-496d-a6b5-758f25d21a47",
   "metadata": {
    "tags": []
   },
   "outputs": [],
   "source": [
    "# data.dropna()\n",
    "mean = data['Sales'].mean()"
   ]
  },
  {
   "cell_type": "code",
   "execution_count": 48,
   "id": "d5a24ba1-a4e5-49e6-b678-b51eef707874",
   "metadata": {
    "tags": []
   },
   "outputs": [],
   "source": [
    "data['Sales'] = data['Sales'].fillna(mean)"
   ]
  },
  {
   "cell_type": "code",
   "execution_count": 49,
   "id": "d7ecc93f-228e-4814-be7a-6228246aba64",
   "metadata": {
    "tags": []
   },
   "outputs": [
    {
     "data": {
      "text/plain": [
       "Order ID         0\n",
       "Product Name     0\n",
       "Category        29\n",
       "Sub-Category     0\n",
       "Sales            0\n",
       "Quantity         0\n",
       "Discount         0\n",
       "Profit          30\n",
       "New_discount     0\n",
       "Profit_After    30\n",
       "dtype: int64"
      ]
     },
     "execution_count": 49,
     "metadata": {},
     "output_type": "execute_result"
    }
   ],
   "source": [
    "data.isnull().sum()"
   ]
  },
  {
   "cell_type": "code",
   "execution_count": 20,
   "id": "80bf267f-2da2-4256-8ab5-bbde6c7d7e7e",
   "metadata": {
    "tags": []
   },
   "outputs": [
    {
     "data": {
      "text/html": [
       "<div>\n",
       "<style scoped>\n",
       "    .dataframe tbody tr th:only-of-type {\n",
       "        vertical-align: middle;\n",
       "    }\n",
       "\n",
       "    .dataframe tbody tr th {\n",
       "        vertical-align: top;\n",
       "    }\n",
       "\n",
       "    .dataframe thead th {\n",
       "        text-align: right;\n",
       "    }\n",
       "</style>\n",
       "<table border=\"1\" class=\"dataframe\">\n",
       "  <thead>\n",
       "    <tr style=\"text-align: right;\">\n",
       "      <th></th>\n",
       "      <th>Order ID</th>\n",
       "      <th>Product Name</th>\n",
       "      <th>Category</th>\n",
       "      <th>Sub-Category</th>\n",
       "      <th>Sales</th>\n",
       "      <th>Quantity</th>\n",
       "      <th>Discount</th>\n",
       "      <th>Profit</th>\n",
       "      <th>New_discount</th>\n",
       "      <th>Profit_After</th>\n",
       "    </tr>\n",
       "  </thead>\n",
       "  <tbody>\n",
       "    <tr>\n",
       "      <th>0</th>\n",
       "      <td>US-2017-434667</td>\n",
       "      <td>Tables A</td>\n",
       "      <td>Furniture</td>\n",
       "      <td>Tables</td>\n",
       "      <td>554.700000</td>\n",
       "      <td>7</td>\n",
       "      <td>0.1</td>\n",
       "      <td>126.79</td>\n",
       "      <td>0.2</td>\n",
       "      <td>126.53642</td>\n",
       "    </tr>\n",
       "    <tr>\n",
       "      <th>1</th>\n",
       "      <td>CA-2021-365005</td>\n",
       "      <td>Labels C</td>\n",
       "      <td>Office Supplies</td>\n",
       "      <td>Labels</td>\n",
       "      <td>24.360000</td>\n",
       "      <td>3</td>\n",
       "      <td>0.4</td>\n",
       "      <td>3.37</td>\n",
       "      <td>0.5</td>\n",
       "      <td>3.35315</td>\n",
       "    </tr>\n",
       "    <tr>\n",
       "      <th>2</th>\n",
       "      <td>CA-2020-401477</td>\n",
       "      <td>Machines A</td>\n",
       "      <td>Technology</td>\n",
       "      <td>Machines</td>\n",
       "      <td>531.720000</td>\n",
       "      <td>3</td>\n",
       "      <td>0.4</td>\n",
       "      <td>39.92</td>\n",
       "      <td>0.5</td>\n",
       "      <td>39.72040</td>\n",
       "    </tr>\n",
       "    <tr>\n",
       "      <th>3</th>\n",
       "      <td>IN-2015-398586</td>\n",
       "      <td>Paper C</td>\n",
       "      <td>Office Supplies</td>\n",
       "      <td>Paper</td>\n",
       "      <td>617.550000</td>\n",
       "      <td>3</td>\n",
       "      <td>0.0</td>\n",
       "      <td>116.48</td>\n",
       "      <td>0.1</td>\n",
       "      <td>116.36352</td>\n",
       "    </tr>\n",
       "    <tr>\n",
       "      <th>4</th>\n",
       "      <td>IN-2018-565349</td>\n",
       "      <td>Tables D</td>\n",
       "      <td>Furniture</td>\n",
       "      <td>Tables</td>\n",
       "      <td>972.670000</td>\n",
       "      <td>7</td>\n",
       "      <td>0.2</td>\n",
       "      <td>194.54</td>\n",
       "      <td>0.3</td>\n",
       "      <td>193.95638</td>\n",
       "    </tr>\n",
       "    <tr>\n",
       "      <th>...</th>\n",
       "      <td>...</td>\n",
       "      <td>...</td>\n",
       "      <td>...</td>\n",
       "      <td>...</td>\n",
       "      <td>...</td>\n",
       "      <td>...</td>\n",
       "      <td>...</td>\n",
       "      <td>...</td>\n",
       "      <td>...</td>\n",
       "      <td>...</td>\n",
       "    </tr>\n",
       "    <tr>\n",
       "      <th>493</th>\n",
       "      <td>US-2016-490347</td>\n",
       "      <td>Storage D</td>\n",
       "      <td>Office Supplies</td>\n",
       "      <td>Storage</td>\n",
       "      <td>728.480000</td>\n",
       "      <td>6</td>\n",
       "      <td>0.2</td>\n",
       "      <td>83.23</td>\n",
       "      <td>0.3</td>\n",
       "      <td>82.98031</td>\n",
       "    </tr>\n",
       "    <tr>\n",
       "      <th>495</th>\n",
       "      <td>IN-2017-952207</td>\n",
       "      <td>Phones B</td>\n",
       "      <td>Technology</td>\n",
       "      <td>Phones</td>\n",
       "      <td>515.433745</td>\n",
       "      <td>5</td>\n",
       "      <td>0.4</td>\n",
       "      <td>39.72</td>\n",
       "      <td>0.5</td>\n",
       "      <td>39.52140</td>\n",
       "    </tr>\n",
       "    <tr>\n",
       "      <th>496</th>\n",
       "      <td>US-2017-979008</td>\n",
       "      <td>Furnishings D</td>\n",
       "      <td>Furniture</td>\n",
       "      <td>Furnishings</td>\n",
       "      <td>339.380000</td>\n",
       "      <td>8</td>\n",
       "      <td>0.2</td>\n",
       "      <td>65.81</td>\n",
       "      <td>0.3</td>\n",
       "      <td>65.61257</td>\n",
       "    </tr>\n",
       "    <tr>\n",
       "      <th>497</th>\n",
       "      <td>IN-2019-980328</td>\n",
       "      <td>Labels D</td>\n",
       "      <td>Office Supplies</td>\n",
       "      <td>Labels</td>\n",
       "      <td>515.433745</td>\n",
       "      <td>10</td>\n",
       "      <td>0.3</td>\n",
       "      <td>62.59</td>\n",
       "      <td>0.4</td>\n",
       "      <td>62.33964</td>\n",
       "    </tr>\n",
       "    <tr>\n",
       "      <th>499</th>\n",
       "      <td>IN-2018-943633</td>\n",
       "      <td>Machines B</td>\n",
       "      <td>Technology</td>\n",
       "      <td>Machines</td>\n",
       "      <td>203.250000</td>\n",
       "      <td>3</td>\n",
       "      <td>0.4</td>\n",
       "      <td>13.56</td>\n",
       "      <td>0.5</td>\n",
       "      <td>13.49220</td>\n",
       "    </tr>\n",
       "  </tbody>\n",
       "</table>\n",
       "<p>444 rows × 10 columns</p>\n",
       "</div>"
      ],
      "text/plain": [
       "           Order ID   Product Name         Category Sub-Category       Sales  \\\n",
       "0    US-2017-434667       Tables A        Furniture       Tables  554.700000   \n",
       "1    CA-2021-365005       Labels C  Office Supplies       Labels   24.360000   \n",
       "2    CA-2020-401477     Machines A       Technology     Machines  531.720000   \n",
       "3    IN-2015-398586        Paper C  Office Supplies        Paper  617.550000   \n",
       "4    IN-2018-565349       Tables D        Furniture       Tables  972.670000   \n",
       "..              ...            ...              ...          ...         ...   \n",
       "493  US-2016-490347      Storage D  Office Supplies      Storage  728.480000   \n",
       "495  IN-2017-952207       Phones B       Technology       Phones  515.433745   \n",
       "496  US-2017-979008  Furnishings D        Furniture  Furnishings  339.380000   \n",
       "497  IN-2019-980328       Labels D  Office Supplies       Labels  515.433745   \n",
       "499  IN-2018-943633     Machines B       Technology     Machines  203.250000   \n",
       "\n",
       "     Quantity  Discount  Profit  New_discount  Profit_After  \n",
       "0           7       0.1  126.79           0.2     126.53642  \n",
       "1           3       0.4    3.37           0.5       3.35315  \n",
       "2           3       0.4   39.92           0.5      39.72040  \n",
       "3           3       0.0  116.48           0.1     116.36352  \n",
       "4           7       0.2  194.54           0.3     193.95638  \n",
       "..        ...       ...     ...           ...           ...  \n",
       "493         6       0.2   83.23           0.3      82.98031  \n",
       "495         5       0.4   39.72           0.5      39.52140  \n",
       "496         8       0.2   65.81           0.3      65.61257  \n",
       "497        10       0.3   62.59           0.4      62.33964  \n",
       "499         3       0.4   13.56           0.5      13.49220  \n",
       "\n",
       "[444 rows x 10 columns]"
      ]
     },
     "execution_count": 20,
     "metadata": {},
     "output_type": "execute_result"
    }
   ],
   "source": [
    "# data.dropna()"
   ]
  },
  {
   "cell_type": "code",
   "execution_count": 50,
   "id": "8553e302-1a66-4f15-8c5f-bdcf8c27bf26",
   "metadata": {
    "tags": []
   },
   "outputs": [
    {
     "data": {
      "text/plain": [
       "(array([ 27,  29,  47,  51,  76,  78,  90, 101, 115, 182, 184, 187, 208,\n",
       "        218, 238, 247, 257, 259, 267, 273, 275, 351, 366, 435, 455, 459,\n",
       "        469, 471, 472]),)"
      ]
     },
     "execution_count": 50,
     "metadata": {},
     "output_type": "execute_result"
    }
   ],
   "source": [
    "a = data['Category'].isnull()\n",
    "arr = np.where(a == True)\n",
    "arr"
   ]
  },
  {
   "cell_type": "code",
   "execution_count": 51,
   "id": "ca5c69bb-efdd-4daa-b11e-3fc54bdc2ae7",
   "metadata": {
    "tags": []
   },
   "outputs": [
    {
     "name": "stderr",
     "output_type": "stream",
     "text": [
      "C:\\Users\\asus\\AppData\\Local\\Temp\\ipykernel_42576\\2637820360.py:2: FutureWarning: ChainedAssignmentError: behaviour will change in pandas 3.0!\n",
      "You are setting values through chained assignment. Currently this works in certain cases, but when using Copy-on-Write (which will become the default behaviour in pandas 3.0) this will never work to update the original DataFrame or Series, because the intermediate object on which we are setting values will behave as a copy.\n",
      "A typical example is when you are setting values in a column of a DataFrame, like:\n",
      "\n",
      "df[\"col\"][row_indexer] = value\n",
      "\n",
      "Use `df.loc[row_indexer, \"col\"] = values` instead, to perform the assignment in a single step and ensure this keeps updating the original `df`.\n",
      "\n",
      "See the caveats in the documentation: https://pandas.pydata.org/pandas-docs/stable/user_guide/indexing.html#returning-a-view-versus-a-copy\n",
      "\n",
      "  data['Category'].loc[i] = data['Sub-Category'].loc[i]\n",
      "C:\\Users\\asus\\AppData\\Local\\Temp\\ipykernel_42576\\2637820360.py:2: SettingWithCopyWarning: \n",
      "A value is trying to be set on a copy of a slice from a DataFrame\n",
      "\n",
      "See the caveats in the documentation: https://pandas.pydata.org/pandas-docs/stable/user_guide/indexing.html#returning-a-view-versus-a-copy\n",
      "  data['Category'].loc[i] = data['Sub-Category'].loc[i]\n"
     ]
    }
   ],
   "source": [
    "for i in arr:\n",
    "    data['Category'].loc[i] = data['Sub-Category'].loc[i]"
   ]
  },
  {
   "cell_type": "code",
   "execution_count": 52,
   "id": "2a0b014c-4a8d-40a4-aeec-9ba930d8e015",
   "metadata": {
    "tags": []
   },
   "outputs": [
    {
     "data": {
      "text/plain": [
       "np.int64(0)"
      ]
     },
     "execution_count": 52,
     "metadata": {},
     "output_type": "execute_result"
    }
   ],
   "source": [
    "data['Category'].isnull().sum()"
   ]
  },
  {
   "cell_type": "code",
   "execution_count": 53,
   "id": "1e13e535-cc9b-4879-b876-38145a29cf8c",
   "metadata": {
    "tags": []
   },
   "outputs": [
    {
     "data": {
      "text/plain": [
       "Order ID         0\n",
       "Product Name     0\n",
       "Category         0\n",
       "Sub-Category     0\n",
       "Sales            0\n",
       "Quantity         0\n",
       "Discount         0\n",
       "Profit          30\n",
       "New_discount     0\n",
       "Profit_After    30\n",
       "dtype: int64"
      ]
     },
     "execution_count": 53,
     "metadata": {},
     "output_type": "execute_result"
    }
   ],
   "source": [
    "data.isnull().sum()"
   ]
  },
  {
   "cell_type": "code",
   "execution_count": 54,
   "id": "5e32b31f-5f04-480e-ae58-1a8fb24ca481",
   "metadata": {
    "tags": []
   },
   "outputs": [
    {
     "data": {
      "text/html": [
       "<div>\n",
       "<style scoped>\n",
       "    .dataframe tbody tr th:only-of-type {\n",
       "        vertical-align: middle;\n",
       "    }\n",
       "\n",
       "    .dataframe tbody tr th {\n",
       "        vertical-align: top;\n",
       "    }\n",
       "\n",
       "    .dataframe thead th {\n",
       "        text-align: right;\n",
       "    }\n",
       "</style>\n",
       "<table border=\"1\" class=\"dataframe\">\n",
       "  <thead>\n",
       "    <tr style=\"text-align: right;\">\n",
       "      <th></th>\n",
       "      <th>Order ID</th>\n",
       "      <th>Product Name</th>\n",
       "      <th>Category</th>\n",
       "      <th>Sub-Category</th>\n",
       "      <th>Sales</th>\n",
       "      <th>Quantity</th>\n",
       "      <th>Discount</th>\n",
       "      <th>Profit</th>\n",
       "      <th>New_discount</th>\n",
       "      <th>Profit_After</th>\n",
       "    </tr>\n",
       "  </thead>\n",
       "  <tbody>\n",
       "    <tr>\n",
       "      <th>0</th>\n",
       "      <td>US-2017-434667</td>\n",
       "      <td>Tables A</td>\n",
       "      <td>Furniture</td>\n",
       "      <td>Tables</td>\n",
       "      <td>554.700000</td>\n",
       "      <td>7</td>\n",
       "      <td>0.1</td>\n",
       "      <td>126.79</td>\n",
       "      <td>0.2</td>\n",
       "      <td>126.53642</td>\n",
       "    </tr>\n",
       "    <tr>\n",
       "      <th>1</th>\n",
       "      <td>CA-2021-365005</td>\n",
       "      <td>Labels C</td>\n",
       "      <td>Office Supplies</td>\n",
       "      <td>Labels</td>\n",
       "      <td>24.360000</td>\n",
       "      <td>3</td>\n",
       "      <td>0.4</td>\n",
       "      <td>3.37</td>\n",
       "      <td>0.5</td>\n",
       "      <td>3.35315</td>\n",
       "    </tr>\n",
       "    <tr>\n",
       "      <th>2</th>\n",
       "      <td>CA-2020-401477</td>\n",
       "      <td>Machines A</td>\n",
       "      <td>Technology</td>\n",
       "      <td>Machines</td>\n",
       "      <td>531.720000</td>\n",
       "      <td>3</td>\n",
       "      <td>0.4</td>\n",
       "      <td>39.92</td>\n",
       "      <td>0.5</td>\n",
       "      <td>39.72040</td>\n",
       "    </tr>\n",
       "    <tr>\n",
       "      <th>3</th>\n",
       "      <td>IN-2015-398586</td>\n",
       "      <td>Paper C</td>\n",
       "      <td>Office Supplies</td>\n",
       "      <td>Paper</td>\n",
       "      <td>617.550000</td>\n",
       "      <td>3</td>\n",
       "      <td>0.0</td>\n",
       "      <td>116.48</td>\n",
       "      <td>0.1</td>\n",
       "      <td>116.36352</td>\n",
       "    </tr>\n",
       "    <tr>\n",
       "      <th>4</th>\n",
       "      <td>IN-2018-565349</td>\n",
       "      <td>Tables D</td>\n",
       "      <td>Furniture</td>\n",
       "      <td>Tables</td>\n",
       "      <td>972.670000</td>\n",
       "      <td>7</td>\n",
       "      <td>0.2</td>\n",
       "      <td>194.54</td>\n",
       "      <td>0.3</td>\n",
       "      <td>193.95638</td>\n",
       "    </tr>\n",
       "    <tr>\n",
       "      <th>...</th>\n",
       "      <td>...</td>\n",
       "      <td>...</td>\n",
       "      <td>...</td>\n",
       "      <td>...</td>\n",
       "      <td>...</td>\n",
       "      <td>...</td>\n",
       "      <td>...</td>\n",
       "      <td>...</td>\n",
       "      <td>...</td>\n",
       "      <td>...</td>\n",
       "    </tr>\n",
       "    <tr>\n",
       "      <th>493</th>\n",
       "      <td>US-2016-490347</td>\n",
       "      <td>Storage D</td>\n",
       "      <td>Office Supplies</td>\n",
       "      <td>Storage</td>\n",
       "      <td>728.480000</td>\n",
       "      <td>6</td>\n",
       "      <td>0.2</td>\n",
       "      <td>83.23</td>\n",
       "      <td>0.3</td>\n",
       "      <td>82.98031</td>\n",
       "    </tr>\n",
       "    <tr>\n",
       "      <th>495</th>\n",
       "      <td>IN-2017-952207</td>\n",
       "      <td>Phones B</td>\n",
       "      <td>Technology</td>\n",
       "      <td>Phones</td>\n",
       "      <td>515.433745</td>\n",
       "      <td>5</td>\n",
       "      <td>0.4</td>\n",
       "      <td>39.72</td>\n",
       "      <td>0.5</td>\n",
       "      <td>39.52140</td>\n",
       "    </tr>\n",
       "    <tr>\n",
       "      <th>496</th>\n",
       "      <td>US-2017-979008</td>\n",
       "      <td>Furnishings D</td>\n",
       "      <td>Furniture</td>\n",
       "      <td>Furnishings</td>\n",
       "      <td>339.380000</td>\n",
       "      <td>8</td>\n",
       "      <td>0.2</td>\n",
       "      <td>65.81</td>\n",
       "      <td>0.3</td>\n",
       "      <td>65.61257</td>\n",
       "    </tr>\n",
       "    <tr>\n",
       "      <th>497</th>\n",
       "      <td>IN-2019-980328</td>\n",
       "      <td>Labels D</td>\n",
       "      <td>Office Supplies</td>\n",
       "      <td>Labels</td>\n",
       "      <td>515.433745</td>\n",
       "      <td>10</td>\n",
       "      <td>0.3</td>\n",
       "      <td>62.59</td>\n",
       "      <td>0.4</td>\n",
       "      <td>62.33964</td>\n",
       "    </tr>\n",
       "    <tr>\n",
       "      <th>499</th>\n",
       "      <td>IN-2018-943633</td>\n",
       "      <td>Machines B</td>\n",
       "      <td>Technology</td>\n",
       "      <td>Machines</td>\n",
       "      <td>203.250000</td>\n",
       "      <td>3</td>\n",
       "      <td>0.4</td>\n",
       "      <td>13.56</td>\n",
       "      <td>0.5</td>\n",
       "      <td>13.49220</td>\n",
       "    </tr>\n",
       "  </tbody>\n",
       "</table>\n",
       "<p>470 rows × 10 columns</p>\n",
       "</div>"
      ],
      "text/plain": [
       "           Order ID   Product Name         Category Sub-Category       Sales  \\\n",
       "0    US-2017-434667       Tables A        Furniture       Tables  554.700000   \n",
       "1    CA-2021-365005       Labels C  Office Supplies       Labels   24.360000   \n",
       "2    CA-2020-401477     Machines A       Technology     Machines  531.720000   \n",
       "3    IN-2015-398586        Paper C  Office Supplies        Paper  617.550000   \n",
       "4    IN-2018-565349       Tables D        Furniture       Tables  972.670000   \n",
       "..              ...            ...              ...          ...         ...   \n",
       "493  US-2016-490347      Storage D  Office Supplies      Storage  728.480000   \n",
       "495  IN-2017-952207       Phones B       Technology       Phones  515.433745   \n",
       "496  US-2017-979008  Furnishings D        Furniture  Furnishings  339.380000   \n",
       "497  IN-2019-980328       Labels D  Office Supplies       Labels  515.433745   \n",
       "499  IN-2018-943633     Machines B       Technology     Machines  203.250000   \n",
       "\n",
       "     Quantity  Discount  Profit  New_discount  Profit_After  \n",
       "0           7       0.1  126.79           0.2     126.53642  \n",
       "1           3       0.4    3.37           0.5       3.35315  \n",
       "2           3       0.4   39.92           0.5      39.72040  \n",
       "3           3       0.0  116.48           0.1     116.36352  \n",
       "4           7       0.2  194.54           0.3     193.95638  \n",
       "..        ...       ...     ...           ...           ...  \n",
       "493         6       0.2   83.23           0.3      82.98031  \n",
       "495         5       0.4   39.72           0.5      39.52140  \n",
       "496         8       0.2   65.81           0.3      65.61257  \n",
       "497        10       0.3   62.59           0.4      62.33964  \n",
       "499         3       0.4   13.56           0.5      13.49220  \n",
       "\n",
       "[470 rows x 10 columns]"
      ]
     },
     "execution_count": 54,
     "metadata": {},
     "output_type": "execute_result"
    }
   ],
   "source": [
    "# data.dropna(inplace = True)\n",
    "data.dropna()"
   ]
  },
  {
   "cell_type": "code",
   "execution_count": 55,
   "id": "121f4913-2b8e-4939-8a58-7f2fadd26365",
   "metadata": {
    "tags": []
   },
   "outputs": [
    {
     "data": {
      "text/html": [
       "<div>\n",
       "<style scoped>\n",
       "    .dataframe tbody tr th:only-of-type {\n",
       "        vertical-align: middle;\n",
       "    }\n",
       "\n",
       "    .dataframe tbody tr th {\n",
       "        vertical-align: top;\n",
       "    }\n",
       "\n",
       "    .dataframe thead th {\n",
       "        text-align: right;\n",
       "    }\n",
       "</style>\n",
       "<table border=\"1\" class=\"dataframe\">\n",
       "  <thead>\n",
       "    <tr style=\"text-align: right;\">\n",
       "      <th></th>\n",
       "      <th>Order ID</th>\n",
       "      <th>Product Name</th>\n",
       "      <th>Category</th>\n",
       "      <th>Sub-Category</th>\n",
       "      <th>Sales</th>\n",
       "      <th>Quantity</th>\n",
       "      <th>Discount</th>\n",
       "      <th>Profit</th>\n",
       "      <th>New_discount</th>\n",
       "      <th>Profit_After</th>\n",
       "    </tr>\n",
       "  </thead>\n",
       "  <tbody>\n",
       "    <tr>\n",
       "      <th>0</th>\n",
       "      <td>US-2017-434667</td>\n",
       "      <td>Tables A</td>\n",
       "      <td>Furniture</td>\n",
       "      <td>Tables</td>\n",
       "      <td>554.700000</td>\n",
       "      <td>7</td>\n",
       "      <td>0.1</td>\n",
       "      <td>126.79</td>\n",
       "      <td>0.2</td>\n",
       "      <td>126.53642</td>\n",
       "    </tr>\n",
       "    <tr>\n",
       "      <th>1</th>\n",
       "      <td>CA-2021-365005</td>\n",
       "      <td>Labels C</td>\n",
       "      <td>Office Supplies</td>\n",
       "      <td>Labels</td>\n",
       "      <td>24.360000</td>\n",
       "      <td>3</td>\n",
       "      <td>0.4</td>\n",
       "      <td>3.37</td>\n",
       "      <td>0.5</td>\n",
       "      <td>3.35315</td>\n",
       "    </tr>\n",
       "    <tr>\n",
       "      <th>2</th>\n",
       "      <td>CA-2020-401477</td>\n",
       "      <td>Machines A</td>\n",
       "      <td>Technology</td>\n",
       "      <td>Machines</td>\n",
       "      <td>531.720000</td>\n",
       "      <td>3</td>\n",
       "      <td>0.4</td>\n",
       "      <td>39.92</td>\n",
       "      <td>0.5</td>\n",
       "      <td>39.72040</td>\n",
       "    </tr>\n",
       "    <tr>\n",
       "      <th>3</th>\n",
       "      <td>IN-2015-398586</td>\n",
       "      <td>Paper C</td>\n",
       "      <td>Office Supplies</td>\n",
       "      <td>Paper</td>\n",
       "      <td>617.550000</td>\n",
       "      <td>3</td>\n",
       "      <td>0.0</td>\n",
       "      <td>116.48</td>\n",
       "      <td>0.1</td>\n",
       "      <td>116.36352</td>\n",
       "    </tr>\n",
       "    <tr>\n",
       "      <th>4</th>\n",
       "      <td>IN-2018-565349</td>\n",
       "      <td>Tables D</td>\n",
       "      <td>Furniture</td>\n",
       "      <td>Tables</td>\n",
       "      <td>972.670000</td>\n",
       "      <td>7</td>\n",
       "      <td>0.2</td>\n",
       "      <td>194.54</td>\n",
       "      <td>0.3</td>\n",
       "      <td>193.95638</td>\n",
       "    </tr>\n",
       "    <tr>\n",
       "      <th>...</th>\n",
       "      <td>...</td>\n",
       "      <td>...</td>\n",
       "      <td>...</td>\n",
       "      <td>...</td>\n",
       "      <td>...</td>\n",
       "      <td>...</td>\n",
       "      <td>...</td>\n",
       "      <td>...</td>\n",
       "      <td>...</td>\n",
       "      <td>...</td>\n",
       "    </tr>\n",
       "    <tr>\n",
       "      <th>495</th>\n",
       "      <td>IN-2017-952207</td>\n",
       "      <td>Phones B</td>\n",
       "      <td>Technology</td>\n",
       "      <td>Phones</td>\n",
       "      <td>515.433745</td>\n",
       "      <td>5</td>\n",
       "      <td>0.4</td>\n",
       "      <td>39.72</td>\n",
       "      <td>0.5</td>\n",
       "      <td>39.52140</td>\n",
       "    </tr>\n",
       "    <tr>\n",
       "      <th>496</th>\n",
       "      <td>US-2017-979008</td>\n",
       "      <td>Furnishings D</td>\n",
       "      <td>Furniture</td>\n",
       "      <td>Furnishings</td>\n",
       "      <td>339.380000</td>\n",
       "      <td>8</td>\n",
       "      <td>0.2</td>\n",
       "      <td>65.81</td>\n",
       "      <td>0.3</td>\n",
       "      <td>65.61257</td>\n",
       "    </tr>\n",
       "    <tr>\n",
       "      <th>497</th>\n",
       "      <td>IN-2019-980328</td>\n",
       "      <td>Labels D</td>\n",
       "      <td>Office Supplies</td>\n",
       "      <td>Labels</td>\n",
       "      <td>515.433745</td>\n",
       "      <td>10</td>\n",
       "      <td>0.3</td>\n",
       "      <td>62.59</td>\n",
       "      <td>0.4</td>\n",
       "      <td>62.33964</td>\n",
       "    </tr>\n",
       "    <tr>\n",
       "      <th>498</th>\n",
       "      <td>US-2017-870155</td>\n",
       "      <td>Storage B</td>\n",
       "      <td>Office Supplies</td>\n",
       "      <td>Storage</td>\n",
       "      <td>840.350000</td>\n",
       "      <td>4</td>\n",
       "      <td>0.2</td>\n",
       "      <td>NaN</td>\n",
       "      <td>0.3</td>\n",
       "      <td>NaN</td>\n",
       "    </tr>\n",
       "    <tr>\n",
       "      <th>499</th>\n",
       "      <td>IN-2018-943633</td>\n",
       "      <td>Machines B</td>\n",
       "      <td>Technology</td>\n",
       "      <td>Machines</td>\n",
       "      <td>203.250000</td>\n",
       "      <td>3</td>\n",
       "      <td>0.4</td>\n",
       "      <td>13.56</td>\n",
       "      <td>0.5</td>\n",
       "      <td>13.49220</td>\n",
       "    </tr>\n",
       "  </tbody>\n",
       "</table>\n",
       "<p>500 rows × 10 columns</p>\n",
       "</div>"
      ],
      "text/plain": [
       "           Order ID   Product Name         Category Sub-Category       Sales  \\\n",
       "0    US-2017-434667       Tables A        Furniture       Tables  554.700000   \n",
       "1    CA-2021-365005       Labels C  Office Supplies       Labels   24.360000   \n",
       "2    CA-2020-401477     Machines A       Technology     Machines  531.720000   \n",
       "3    IN-2015-398586        Paper C  Office Supplies        Paper  617.550000   \n",
       "4    IN-2018-565349       Tables D        Furniture       Tables  972.670000   \n",
       "..              ...            ...              ...          ...         ...   \n",
       "495  IN-2017-952207       Phones B       Technology       Phones  515.433745   \n",
       "496  US-2017-979008  Furnishings D        Furniture  Furnishings  339.380000   \n",
       "497  IN-2019-980328       Labels D  Office Supplies       Labels  515.433745   \n",
       "498  US-2017-870155      Storage B  Office Supplies      Storage  840.350000   \n",
       "499  IN-2018-943633     Machines B       Technology     Machines  203.250000   \n",
       "\n",
       "     Quantity  Discount  Profit  New_discount  Profit_After  \n",
       "0           7       0.1  126.79           0.2     126.53642  \n",
       "1           3       0.4    3.37           0.5       3.35315  \n",
       "2           3       0.4   39.92           0.5      39.72040  \n",
       "3           3       0.0  116.48           0.1     116.36352  \n",
       "4           7       0.2  194.54           0.3     193.95638  \n",
       "..        ...       ...     ...           ...           ...  \n",
       "495         5       0.4   39.72           0.5      39.52140  \n",
       "496         8       0.2   65.81           0.3      65.61257  \n",
       "497        10       0.3   62.59           0.4      62.33964  \n",
       "498         4       0.2     NaN           0.3           NaN  \n",
       "499         3       0.4   13.56           0.5      13.49220  \n",
       "\n",
       "[500 rows x 10 columns]"
      ]
     },
     "execution_count": 55,
     "metadata": {},
     "output_type": "execute_result"
    }
   ],
   "source": [
    "data"
   ]
  },
  {
   "cell_type": "code",
   "execution_count": 56,
   "id": "ca5a01eb-2556-4fe8-84df-9ae6f424ca5d",
   "metadata": {
    "tags": []
   },
   "outputs": [],
   "source": [
    "arr = np.array([data['Quantity']])"
   ]
  },
  {
   "cell_type": "code",
   "execution_count": 57,
   "id": "93b20572-3a80-452d-bb07-06cfe147ba89",
   "metadata": {
    "tags": []
   },
   "outputs": [
    {
     "data": {
      "text/plain": [
       "array([[ 7,  3,  3,  3,  7,  8,  9,  4,  8,  2,  6,  1,  2,  7,  3, 10,\n",
       "         1, 10,  1,  8,  9,  4,  6,  5, 10,  7,  1,  3,  1, 10, 10,  5,\n",
       "         9,  4,  7,  9,  1,  7,  8,  1, 10,  9,  2,  1, 10,  2,  7,  5,\n",
       "         1, 10,  6,  2,  5, 10,  5,  1,  8,  5,  6,  5,  8, 10,  3,  1,\n",
       "         5,  6,  8, 10,  2,  3,  9,  4,  3,  3, 10,  5,  6,  3,  8,  2,\n",
       "         2,  1,  6,  4,  2,  4,  2,  9,  3,  4,  2,  7,  2,  5,  7,  8,\n",
       "         4,  5, 10,  8,  1,  6, 10,  3,  6,  4,  1,  3,  1,  6,  1,  2,\n",
       "         4,  9,  1,  8,  2,  7,  1,  8,  9,  8,  3,  3,  1,  6,  9,  8,\n",
       "        10,  7,  1, 10,  2,  5, 10,  7,  3, 10,  2,  6,  6,  5,  7,  4,\n",
       "         3,  5,  2,  9,  1,  8,  1,  8,  9,  7,  9,  6,  8,  1,  5,  1,\n",
       "         1,  9, 10, 10,  8,  1,  8,  3,  1,  2,  3,  4,  2,  1, 10, 10,\n",
       "         6,  5,  9,  4,  7,  3,  3,  5,  8,  5,  4,  3,  5,  6,  4,  6,\n",
       "         1,  2,  4,  2,  5,  1,  3,  3,  4,  5,  3,  7,  3, 10, 10,  3,\n",
       "         4,  2, 10,  5,  8,  9,  4, 10,  6,  5,  3,  4,  5,  6,  5,  7,\n",
       "         4,  1,  5,  4,  4, 10,  6, 10,  3,  7,  7,  6, 10,  5,  2,  2,\n",
       "         2, 10,  3,  5,  3,  2, 10,  1,  6,  4,  3,  2, 10,  2,  2, 10,\n",
       "         8,  3,  7,  1, 10,  2,  1,  2,  5,  8,  1,  7,  1,  4,  2,  1,\n",
       "         6,  9,  8,  7,  2,  8,  6,  1, 10, 10, 10,  4,  5,  7,  7,  7,\n",
       "         5,  7,  8, 10,  5, 10,  8,  9, 10,  6,  7,  4,  7,  2,  7,  9,\n",
       "         8,  2,  7,  4,  1,  3,  3,  5,  8,  7,  6,  7,  1,  1,  3,  2,\n",
       "         4,  3,  7,  5,  7,  5,  3, 10,  7,  1,  9,  2,  9,  5,  5, 10,\n",
       "         2,  1,  2,  1,  7,  8,  6,  4,  5,  7,  8, 10,  8,  5, 10,  9,\n",
       "         7,  3,  6,  1,  5,  2,  8,  5,  9,  5,  1,  2,  7, 10,  9,  3,\n",
       "         8,  7,  4,  4,  6, 10,  1,  9,  3,  3,  3,  1,  6,  5,  1,  7,\n",
       "         1,  5,  3,  3,  4,  5,  3,  5,  9,  4,  3,  8,  2,  2,  8,  5,\n",
       "         4,  3,  5,  3,  7,  1,  4,  8,  8,  3,  4,  2,  2,  1, 10,  6,\n",
       "         2, 10,  2,  6, 10,  8,  6,  8,  8,  5,  5,  5,  8, 10,  2,  5,\n",
       "         4,  2,  8,  2,  5, 10,  6,  9,  6,  5,  2,  6,  6,  5,  1,  7,\n",
       "         9,  2, 10,  3, 10,  4,  9,  8,  2,  3,  9, 10,  2,  5,  5,  5,\n",
       "         2,  5,  7,  6,  1, 10,  3,  9,  2,  4,  9,  5,  8,  6,  9,  4,\n",
       "         5,  4,  3,  8,  5,  4,  6,  5,  6,  7,  8,  6,  6,  6,  1,  5,\n",
       "         8, 10,  4,  3]])"
      ]
     },
     "execution_count": 57,
     "metadata": {},
     "output_type": "execute_result"
    }
   ],
   "source": [
    "arr"
   ]
  },
  {
   "cell_type": "code",
   "execution_count": 58,
   "id": "f7731b98-b055-490a-8680-6dc59d1f0bd1",
   "metadata": {
    "tags": []
   },
   "outputs": [
    {
     "data": {
      "text/plain": [
       "(array([0, 0, 0, 0, 0, 0, 0, 0, 0, 0, 0, 0, 0, 0, 0, 0, 0, 0, 0, 0, 0, 0,\n",
       "        0, 0, 0, 0, 0, 0, 0, 0, 0, 0, 0, 0, 0, 0, 0, 0, 0, 0, 0, 0, 0, 0,\n",
       "        0, 0, 0, 0, 0, 0, 0, 0, 0, 0, 0, 0]),\n",
       " array([ 15,  17,  24,  29,  30,  40,  44,  49,  53,  61,  67,  74,  98,\n",
       "        102, 128, 131, 134, 137, 162, 163, 174, 175, 205, 206, 210, 215,\n",
       "        229, 231, 236, 241, 246, 252, 255, 260, 280, 281, 282, 291, 293,\n",
       "        296, 327, 335, 347, 350, 365, 373, 414, 417, 420, 429, 437, 450,\n",
       "        452, 459, 469, 497]))"
      ]
     },
     "execution_count": 58,
     "metadata": {},
     "output_type": "execute_result"
    }
   ],
   "source": [
    "product_maxSell = np.where(arr == 10)\n",
    "product_maxSell"
   ]
  },
  {
   "cell_type": "code",
   "execution_count": 59,
   "id": "cafcf57e-12f6-478a-aacf-d8e3f49349e8",
   "metadata": {
    "tags": []
   },
   "outputs": [
    {
     "data": {
      "text/plain": [
       "'Technology'"
      ]
     },
     "execution_count": 59,
     "metadata": {},
     "output_type": "execute_result"
    }
   ],
   "source": [
    "data.loc[123]['Category']"
   ]
  },
  {
   "cell_type": "code",
   "execution_count": 60,
   "id": "be0bc4a4-813b-4747-932e-f5299e6ba614",
   "metadata": {
    "tags": []
   },
   "outputs": [],
   "source": [
    "temp = []\n",
    "\n",
    "for i in product_maxSell:\n",
    "    temp.append(data.loc[i]['Sub-Category'])"
   ]
  },
  {
   "cell_type": "code",
   "execution_count": 63,
   "id": "759b6f42-50df-4c38-be7a-78d819a7b085",
   "metadata": {
    "tags": []
   },
   "outputs": [],
   "source": [
    "Max_Sell_Products = np.unique(temp)"
   ]
  },
  {
   "cell_type": "code",
   "execution_count": 64,
   "id": "d88577c7-b612-4166-9b39-ae804d84f53b",
   "metadata": {
    "tags": []
   },
   "outputs": [],
   "source": [
    "max_profit = np.where(data['Profit'] >= 194.54)"
   ]
  },
  {
   "cell_type": "code",
   "execution_count": 65,
   "id": "db0b4525-0552-4306-a577-57f0ecdb1776",
   "metadata": {
    "tags": []
   },
   "outputs": [
    {
     "data": {
      "text/plain": [
       "(array([  4,  20,  30,  45,  70,  82,  95,  96, 115, 157, 173, 187, 189,\n",
       "        285, 332, 371, 423, 437, 475]),)"
      ]
     },
     "execution_count": 65,
     "metadata": {},
     "output_type": "execute_result"
    }
   ],
   "source": [
    "max_profit"
   ]
  },
  {
   "cell_type": "code",
   "execution_count": 68,
   "id": "ffe99543-215e-483e-96af-16e974300499",
   "metadata": {
    "tags": []
   },
   "outputs": [],
   "source": [
    "temp = []\n",
    "for i in max_profit:\n",
    "    temp.append(data['Sub-Category'][i])"
   ]
  },
  {
   "cell_type": "code",
   "execution_count": 70,
   "id": "e0d4987a-dc09-416e-a6be-637a819d1cc1",
   "metadata": {
    "tags": []
   },
   "outputs": [
    {
     "data": {
      "text/plain": [
       "array(['Accessories', 'Binders', 'Bookcases', 'Copiers', 'Furnishings',\n",
       "       'Labels', 'Machines', 'Paper', 'Phones', 'Tables'], dtype=object)"
      ]
     },
     "execution_count": 70,
     "metadata": {},
     "output_type": "execute_result"
    }
   ],
   "source": [
    "np.unique(temp)"
   ]
  },
  {
   "cell_type": "code",
   "execution_count": 71,
   "id": "6a87d1c6-013b-4ddb-b3c0-225074f2ac6a",
   "metadata": {
    "tags": []
   },
   "outputs": [],
   "source": [
    "arr = np.array(data['Discount'])\n",
    "max_dis = []\n",
    "min_dis = []\n",
    "zero_dis = []\n",
    "\n",
    "for i in arr:\n",
    "    if i > 0.2:\n",
    "        max_dis.append(i)\n",
    "    elif i > 0:\n",
    "        min_dis.append(i)\n",
    "    else:\n",
    "        zero_dis.append(i)"
   ]
  },
  {
   "cell_type": "code",
   "execution_count": 76,
   "id": "7eaa741b-ab9d-45ac-93fd-a4d335e90727",
   "metadata": {
    "tags": []
   },
   "outputs": [
    {
     "data": {
      "text/plain": [
       "217"
      ]
     },
     "execution_count": 76,
     "metadata": {},
     "output_type": "execute_result"
    }
   ],
   "source": [
    "len(max_dis)\n"
   ]
  },
  {
   "cell_type": "code",
   "execution_count": 73,
   "id": "e6beccfb-c907-4e3b-91f3-21c78ef99ec9",
   "metadata": {
    "tags": []
   },
   "outputs": [
    {
     "data": {
      "text/plain": [
       "180"
      ]
     },
     "execution_count": 73,
     "metadata": {},
     "output_type": "execute_result"
    }
   ],
   "source": [
    "len(min_dis)"
   ]
  },
  {
   "cell_type": "code",
   "execution_count": 74,
   "id": "aa24919e-1582-48d9-9364-d5515fcaf1ac",
   "metadata": {
    "tags": []
   },
   "outputs": [
    {
     "data": {
      "text/plain": [
       "103"
      ]
     },
     "execution_count": 74,
     "metadata": {},
     "output_type": "execute_result"
    }
   ],
   "source": [
    "len(zero_dis)"
   ]
  },
  {
   "cell_type": "code",
   "execution_count": 78,
   "id": "c4e5e9a5-fa6e-4487-a915-f604212e9d3b",
   "metadata": {
    "tags": []
   },
   "outputs": [
    {
     "data": {
      "text/html": [
       "<div>\n",
       "<style scoped>\n",
       "    .dataframe tbody tr th:only-of-type {\n",
       "        vertical-align: middle;\n",
       "    }\n",
       "\n",
       "    .dataframe tbody tr th {\n",
       "        vertical-align: top;\n",
       "    }\n",
       "\n",
       "    .dataframe thead th {\n",
       "        text-align: right;\n",
       "    }\n",
       "</style>\n",
       "<table border=\"1\" class=\"dataframe\">\n",
       "  <thead>\n",
       "    <tr style=\"text-align: right;\">\n",
       "      <th></th>\n",
       "      <th>Order ID</th>\n",
       "      <th>Product Name</th>\n",
       "      <th>Category</th>\n",
       "      <th>Sub-Category</th>\n",
       "      <th>Sales</th>\n",
       "      <th>Quantity</th>\n",
       "      <th>Discount</th>\n",
       "      <th>Profit</th>\n",
       "      <th>New_discount</th>\n",
       "      <th>Profit_After</th>\n",
       "    </tr>\n",
       "  </thead>\n",
       "  <tbody>\n",
       "    <tr>\n",
       "      <th>0</th>\n",
       "      <td>US-2017-434667</td>\n",
       "      <td>Tables A</td>\n",
       "      <td>Furniture</td>\n",
       "      <td>Tables</td>\n",
       "      <td>554.700000</td>\n",
       "      <td>7</td>\n",
       "      <td>0.1</td>\n",
       "      <td>126.79</td>\n",
       "      <td>0.2</td>\n",
       "      <td>126.53642</td>\n",
       "    </tr>\n",
       "    <tr>\n",
       "      <th>1</th>\n",
       "      <td>CA-2021-365005</td>\n",
       "      <td>Labels C</td>\n",
       "      <td>Office Supplies</td>\n",
       "      <td>Labels</td>\n",
       "      <td>24.360000</td>\n",
       "      <td>3</td>\n",
       "      <td>0.4</td>\n",
       "      <td>3.37</td>\n",
       "      <td>0.5</td>\n",
       "      <td>3.35315</td>\n",
       "    </tr>\n",
       "    <tr>\n",
       "      <th>2</th>\n",
       "      <td>CA-2020-401477</td>\n",
       "      <td>Machines A</td>\n",
       "      <td>Technology</td>\n",
       "      <td>Machines</td>\n",
       "      <td>531.720000</td>\n",
       "      <td>3</td>\n",
       "      <td>0.4</td>\n",
       "      <td>39.92</td>\n",
       "      <td>0.5</td>\n",
       "      <td>39.72040</td>\n",
       "    </tr>\n",
       "    <tr>\n",
       "      <th>3</th>\n",
       "      <td>IN-2015-398586</td>\n",
       "      <td>Paper C</td>\n",
       "      <td>Office Supplies</td>\n",
       "      <td>Paper</td>\n",
       "      <td>617.550000</td>\n",
       "      <td>3</td>\n",
       "      <td>0.0</td>\n",
       "      <td>116.48</td>\n",
       "      <td>0.1</td>\n",
       "      <td>116.36352</td>\n",
       "    </tr>\n",
       "    <tr>\n",
       "      <th>4</th>\n",
       "      <td>IN-2018-565349</td>\n",
       "      <td>Tables D</td>\n",
       "      <td>Furniture</td>\n",
       "      <td>Tables</td>\n",
       "      <td>972.670000</td>\n",
       "      <td>7</td>\n",
       "      <td>0.2</td>\n",
       "      <td>194.54</td>\n",
       "      <td>0.3</td>\n",
       "      <td>193.95638</td>\n",
       "    </tr>\n",
       "    <tr>\n",
       "      <th>...</th>\n",
       "      <td>...</td>\n",
       "      <td>...</td>\n",
       "      <td>...</td>\n",
       "      <td>...</td>\n",
       "      <td>...</td>\n",
       "      <td>...</td>\n",
       "      <td>...</td>\n",
       "      <td>...</td>\n",
       "      <td>...</td>\n",
       "      <td>...</td>\n",
       "    </tr>\n",
       "    <tr>\n",
       "      <th>495</th>\n",
       "      <td>IN-2017-952207</td>\n",
       "      <td>Phones B</td>\n",
       "      <td>Technology</td>\n",
       "      <td>Phones</td>\n",
       "      <td>515.433745</td>\n",
       "      <td>5</td>\n",
       "      <td>0.4</td>\n",
       "      <td>39.72</td>\n",
       "      <td>0.5</td>\n",
       "      <td>39.52140</td>\n",
       "    </tr>\n",
       "    <tr>\n",
       "      <th>496</th>\n",
       "      <td>US-2017-979008</td>\n",
       "      <td>Furnishings D</td>\n",
       "      <td>Furniture</td>\n",
       "      <td>Furnishings</td>\n",
       "      <td>339.380000</td>\n",
       "      <td>8</td>\n",
       "      <td>0.2</td>\n",
       "      <td>65.81</td>\n",
       "      <td>0.3</td>\n",
       "      <td>65.61257</td>\n",
       "    </tr>\n",
       "    <tr>\n",
       "      <th>497</th>\n",
       "      <td>IN-2019-980328</td>\n",
       "      <td>Labels D</td>\n",
       "      <td>Office Supplies</td>\n",
       "      <td>Labels</td>\n",
       "      <td>515.433745</td>\n",
       "      <td>10</td>\n",
       "      <td>0.3</td>\n",
       "      <td>62.59</td>\n",
       "      <td>0.4</td>\n",
       "      <td>62.33964</td>\n",
       "    </tr>\n",
       "    <tr>\n",
       "      <th>498</th>\n",
       "      <td>US-2017-870155</td>\n",
       "      <td>Storage B</td>\n",
       "      <td>Office Supplies</td>\n",
       "      <td>Storage</td>\n",
       "      <td>840.350000</td>\n",
       "      <td>4</td>\n",
       "      <td>0.2</td>\n",
       "      <td>NaN</td>\n",
       "      <td>0.3</td>\n",
       "      <td>NaN</td>\n",
       "    </tr>\n",
       "    <tr>\n",
       "      <th>499</th>\n",
       "      <td>IN-2018-943633</td>\n",
       "      <td>Machines B</td>\n",
       "      <td>Technology</td>\n",
       "      <td>Machines</td>\n",
       "      <td>203.250000</td>\n",
       "      <td>3</td>\n",
       "      <td>0.4</td>\n",
       "      <td>13.56</td>\n",
       "      <td>0.5</td>\n",
       "      <td>13.49220</td>\n",
       "    </tr>\n",
       "  </tbody>\n",
       "</table>\n",
       "<p>500 rows × 10 columns</p>\n",
       "</div>"
      ],
      "text/plain": [
       "           Order ID   Product Name         Category Sub-Category       Sales  \\\n",
       "0    US-2017-434667       Tables A        Furniture       Tables  554.700000   \n",
       "1    CA-2021-365005       Labels C  Office Supplies       Labels   24.360000   \n",
       "2    CA-2020-401477     Machines A       Technology     Machines  531.720000   \n",
       "3    IN-2015-398586        Paper C  Office Supplies        Paper  617.550000   \n",
       "4    IN-2018-565349       Tables D        Furniture       Tables  972.670000   \n",
       "..              ...            ...              ...          ...         ...   \n",
       "495  IN-2017-952207       Phones B       Technology       Phones  515.433745   \n",
       "496  US-2017-979008  Furnishings D        Furniture  Furnishings  339.380000   \n",
       "497  IN-2019-980328       Labels D  Office Supplies       Labels  515.433745   \n",
       "498  US-2017-870155      Storage B  Office Supplies      Storage  840.350000   \n",
       "499  IN-2018-943633     Machines B       Technology     Machines  203.250000   \n",
       "\n",
       "     Quantity  Discount  Profit  New_discount  Profit_After  \n",
       "0           7       0.1  126.79           0.2     126.53642  \n",
       "1           3       0.4    3.37           0.5       3.35315  \n",
       "2           3       0.4   39.92           0.5      39.72040  \n",
       "3           3       0.0  116.48           0.1     116.36352  \n",
       "4           7       0.2  194.54           0.3     193.95638  \n",
       "..        ...       ...     ...           ...           ...  \n",
       "495         5       0.4   39.72           0.5      39.52140  \n",
       "496         8       0.2   65.81           0.3      65.61257  \n",
       "497        10       0.3   62.59           0.4      62.33964  \n",
       "498         4       0.2     NaN           0.3           NaN  \n",
       "499         3       0.4   13.56           0.5      13.49220  \n",
       "\n",
       "[500 rows x 10 columns]"
      ]
     },
     "execution_count": 78,
     "metadata": {},
     "output_type": "execute_result"
    }
   ],
   "source": [
    "data"
   ]
  },
  {
   "cell_type": "code",
   "execution_count": 80,
   "id": "ef1f2546-126b-46ef-9131-b7ed53bc9570",
   "metadata": {
    "tags": []
   },
   "outputs": [],
   "source": [
    "sales_by_category = data.groupby('Category')['Sales'].sum()"
   ]
  },
  {
   "cell_type": "code",
   "execution_count": 81,
   "id": "06bb6354-59fc-4938-af77-86a087eaefe7",
   "metadata": {
    "tags": []
   },
   "outputs": [
    {
     "data": {
      "image/png": "[encoded data removed]",
      "text/plain": [
       "<Figure size 800x500 with 1 Axes>"
      ]
     },
     "metadata": {},
     "output_type": "display_data"
    }
   ],
   "source": [
    "plt.figure(figsize = (8,5))\n",
    "sales_by_category.plot(kind = \"bar\",color = ['skyblue','salmon','red','limegreen'],edgecolor = 'black')\n",
    "plt.title(\"Total Sales by category\",fontsize = 14)\n",
    "plt.xlabel('Category',fontsize=12)\n",
    "plt.ylabel('Total Sale',fontsize=12)\n",
    "plt.show()"
   ]
  },
  {
   "cell_type": "code",
   "execution_count": null,
   "id": "77607ba9-a436-439e-9519-1d13673fda36",
   "metadata": {},
   "outputs": [],
   "source": []
  }
 ],
 "metadata": {
  "kernelspec": {
   "display_name": "Python 3 (ipykernel)",
   "language": "python",
   "name": "python3"
  },
  "language_info": {
   "codemirror_mode": {
    "name": "ipython",
    "version": 3
   },
   "file_extension": ".py",
   "mimetype": "text/x-python",
   "name": "python",
   "nbconvert_exporter": "python",
   "pygments_lexer": "ipython3",
   "version": "3.11.5"
  }
 },
 "nbformat": 4,
 "nbformat_minor": 5
}
